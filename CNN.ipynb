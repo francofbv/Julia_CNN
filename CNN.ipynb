{
 "cells": [
  {
   "cell_type": "code",
   "execution_count": null,
   "metadata": {},
   "outputs": [],
   "source": [
    "using LinearAlgebra\n",
    "using Random\n",
    "using MLDatasets\n",
    "using ImageView, Images"
   ]
  },
  {
   "cell_type": "markdown",
   "metadata": {},
   "source": [
    "Define constants"
   ]
  },
  {
   "cell_type": "code",
   "execution_count": null,
   "metadata": {},
   "outputs": [],
   "source": [
    "⍺ = 0.01\n",
    "epochs = 30"
   ]
  },
  {
   "cell_type": "markdown",
   "metadata": {},
   "source": [
    "Define initial weights and biases"
   ]
  },
  {
   "cell_type": "code",
   "execution_count": null,
   "metadata": {},
   "outputs": [],
   "source": [
    "# Conv Layer 1\n",
    "W_1_1 = 2.0 * rand(5, 5) .- 1.0\n",
    "W_1_2 = 2.0 * rand(5, 5) .- 1.0 \n",
    "\n",
    "b_1_1 = 2.0 * rand() - 1.0\n",
    "b_1_2 = 2.0 * rand() - 1.0\n",
    "\n",
    "# Conv Layer 2\n",
    "W_2_1 = 2.0 * rand(3, 3) .- 1.0\n",
    "W_2_2 = 2.0 * rand(3, 3) .- 1.0\n",
    "W_2_3 = 2.0 * rand(3, 3) .- 1.0\n",
    "W_2_4 = 2.0 * rand(3, 3) .- 1.0\n",
    "W_2_5 = 2.0 * rand(3, 3) .- 1.0\n",
    "W_2_6 = 2.0 * rand(3, 3) .- 1.0\n",
    "W_2_7 = 2.0 * rand(3, 3) .- 1.0\n",
    "W_2_8 = 2.0 * rand(3, 3) .- 1.0\n",
    "\n",
    "b_2_1 = 2.0 * rand() - 1.0\n",
    "b_2_2 = 2.0 * rand() - 1.0\n",
    "b_2_3 = 2.0 * rand() - 1.0\n",
    "b_2_4 = 2.0 * rand() - 1.0\n",
    "\n",
    "#Fully Connected Layer\n",
    "W = 2.0 * rand(10, 100) .- 1.0 \n",
    "b = 2.0 * rand(1, 10) .- 1.0 "
   ]
  },
  {
   "cell_type": "markdown",
   "metadata": {},
   "source": [
    "Data pre-processing"
   ]
  },
  {
   "cell_type": "code",
   "execution_count": null,
   "metadata": {},
   "outputs": [],
   "source": [
    "train_data = MNIST.traintensor()\n",
    "test_data = MNIST.testtensor()\n",
    "train_labels = MNIST.trainlabels()\n",
    "test_labels = MNIST.testlabels()\n",
    "\n",
    "train_data = Float64.(train_data) / 255.0\n",
    "test_data = Float64.(test_data) / 255.0"
   ]
  },
  {
   "cell_type": "markdown",
   "metadata": {},
   "source": [
    "Defining helper functions "
   ]
  },
  {
   "cell_type": "code",
   "execution_count": null,
   "metadata": {},
   "outputs": [],
   "source": [
    "function convolve(matrix, kernel, stride, matrix_n, matrix_m, kernel_n, kernel_m, bias)\n",
    "    row_iters, column_iters = (matrix_n ÷ stride) + 1, (matrix_m ÷ stride) + 1\n",
    "    convolved_matrix_n = convolved_matrix_m = (matrix_m - (kernel_m - 1)) \n",
    "    convolved_matrix = zeros(Float64, convolved_matrix_n, convolved_matrix_m)\n",
    "    convolution_matrix_row = 1\n",
    "    convolution_matrix_col = 1\n",
    "    for row in kernel_n:stride:matrix_n\n",
    "      for column in kernel_m:stride:matrix_m\n",
    "        sub_matrix = matrix[row - (kernel_n - 1):row, column - (kernel_m - 1):column]\n",
    "        convolved_matrix[convolution_matrix_row, convolution_matrix_col] = dot(sub_matrix, kernel) + bias\n",
    "        convolution_matrix_col += 1\n",
    "      end\n",
    "        convolution_matrix_col = 1\n",
    "        convolution_matrix_row += 1\n",
    "    end\n",
    "    return convolved_matrix\n",
    "  end\n",
    "  "
   ]
  },
  {
   "cell_type": "code",
   "execution_count": null,
   "metadata": {},
   "outputs": [],
   "source": [
    "function convolve_2_kernels(matrix_1, matrix_2, kernel_1, kernel_2, stride, matrix_n, matrix_m, kernel_n, kernel_m, bias)\n",
    "    row_iters, column_iters = (matrix_n ÷ stride) + 1, (matrix_m ÷ stride) + 1\n",
    "    convolved_matrix_n = convolved_matrix_m = (matrix_m - (kernel_m - 1)) \n",
    "    convolved_matrix = zeros(Float64, convolved_matrix_n, convolved_matrix_m)\n",
    "    convolution_matrix_row = 1\n",
    "    convolution_matrix_col = 1\n",
    "    for row in kernel_n:stride:matrix_n\n",
    "      for column in kernel_m:stride:matrix_m\n",
    "        sub_matrix_1 = matrix_1[row - (kernel_n - 1):row, column - (kernel_m - 1):column]\n",
    "        sub_matrix_2 = matrix_2[row - (kernel_n - 1):row, column - (kernel_m - 1):column]\n",
    "        convolved_matrix[convolution_matrix_row, convolution_matrix_col] = dot(sub_matrix_1, kernel_1) + dot(sub_matrix_2, kernel_2) + bias\n",
    "        convolution_matrix_col += 1\n",
    "      end\n",
    "        convolution_matrix_col = 1\n",
    "        convolution_matrix_row += 1\n",
    "    end\n",
    "    return convolved_matrix\n",
    "  end"
   ]
  },
  {
   "cell_type": "code",
   "execution_count": null,
   "metadata": {},
   "outputs": [],
   "source": [
    "function max_pooling(matrix, pool_size, stride)\n",
    "    dims = size(matrix)[1]\n",
    "    output_dims = dims ÷ pool_size\n",
    "    output_matrix = zeros(Float64, output_dims, output_dims)\n",
    "    output_matrix_row = 1\n",
    "    output_matrix_col = 1\n",
    "    for row in pool_size:stride:dims\n",
    "        for column in pool_size:stride:dims\n",
    "            sub_matrix = matrix[row - (pool_size - 1):row, column - (pool_size - 1):column]\n",
    "            output_matrix[output_matrix_row, output_matrix_col] = maximum(sub_matrix)\n",
    "            output_matrix_col += 1\n",
    "        end\n",
    "        output_matrix_col = 1\n",
    "        output_matrix_row += 1\n",
    "    end\n",
    "    return output_matrix\n",
    "end"
   ]
  },
  {
   "cell_type": "code",
   "execution_count": null,
   "metadata": {},
   "outputs": [],
   "source": [
    "function print_matrix(matrix)\n",
    "  n = size(matrix, 1)\n",
    "  m = size(matrix, 2)\n",
    "  for row in 1:n\n",
    "    print(\"[\")\n",
    "    for column in 1:m\n",
    "      print(matrix[row, column], \", \")\n",
    "    end\n",
    "    println(\"]\")\n",
    "  end\n",
    "end"
   ]
  },
  {
   "cell_type": "markdown",
   "metadata": {},
   "source": [
    "Defining activation functions"
   ]
  },
  {
   "cell_type": "code",
   "execution_count": null,
   "metadata": {},
   "outputs": [],
   "source": [
    "ReLU(matrix) = max.(matrix, 0)"
   ]
  },
  {
   "cell_type": "code",
   "execution_count": null,
   "metadata": {},
   "outputs": [],
   "source": [
    "softmax(matrix) = exp.(matrix) ./ sum(exp.(matrix))"
   ]
  },
  {
   "cell_type": "markdown",
   "metadata": {},
   "source": [
    "Defining layers"
   ]
  },
  {
   "cell_type": "markdown",
   "metadata": {},
   "source": [
    "Forward prop"
   ]
  },
  {
   "cell_type": "markdown",
   "metadata": {},
   "source": [
    "Convolution Layer 1"
   ]
  },
  {
   "cell_type": "code",
   "execution_count": null,
   "metadata": {},
   "outputs": [],
   "source": [
    "function convolution_layer_one(x, W_1, W_2, stride, b_1, b_2)\n",
    "    input_size = size(x)[1]\n",
    "    kernel_size = 5\n",
    "\n",
    "    Matrix_1 = convolve(x, W_1, stride, input_size, input_size, kernel_size, kernel_size, b_1)\n",
    "    Matrix_2 = convolve(x, W_2, stride, input_size, input_size, kernel_size, kernel_size, b_2)\n",
    "    Matrix_1 = ReLU(Matrix_1)\n",
    "    Matrix_2 = ReLU(Matrix_2)\n",
    "\n",
    "    return Matrix_1, Matrix_2 \n",
    "end\n"
   ]
  },
  {
   "cell_type": "markdown",
   "metadata": {},
   "source": [
    "Pooling Layer 1"
   ]
  },
  {
   "cell_type": "code",
   "execution_count": null,
   "metadata": {},
   "outputs": [],
   "source": [
    "function pooling_layer_one(Matrix_1, Matrix_2)\n",
    "    Matrix_1 = max_pooling(Matrix_1, 2, 2)\n",
    "    Matrix_2 = max_pooling(Matrix_2, 2, 2)\n",
    "    return Matrix_1, Matrix_2 \n",
    "end"
   ]
  },
  {
   "cell_type": "markdown",
   "metadata": {},
   "source": [
    "Convolutional Layer 2"
   ]
  },
  {
   "cell_type": "code",
   "execution_count": null,
   "metadata": {},
   "outputs": [],
   "source": [
    "function convolution_layer_two(Matrix_1, Matrix_2, stride, W_1, W_2, W_3, W_4, W_5, W_6, W_7, W_8, b_1, b_2, b_3, b_4)\n",
    "    copy_matrix_1 = copy(Matrix_1)\n",
    "    copy_matrix_2 = copy(Matrix_2)\n",
    "    \n",
    "    Matrix_1 = convolve_2_kernels(copy_matrix_1, copy_matrix_2, W_1, W_2, stride, size(copy_matrix_1)[1], size(copy_matrix_1)[1], size(W_1)[1], size(W_1)[1], b_1)\n",
    "    Matrix_2 = convolve_2_kernels(copy_matrix_1, copy_matrix_2, W_3, W_4, stride, size(copy_matrix_1)[1], size(copy_matrix_1)[1], size(W_1)[1], size(W_1)[1], b_2)\n",
    "    Matrix_3 = convolve_2_kernels(copy_matrix_1, copy_matrix_2, W_5, W_6, stride, size(copy_matrix_1)[1], size(copy_matrix_1)[1], size(W_1)[1], size(W_1)[1], b_3)\n",
    "    Matrix_4 = convolve_2_kernels(copy_matrix_1, copy_matrix_2, W_7, W_8, stride, size(copy_matrix_1)[1], size(copy_matrix_1)[1], size(W_1)[1], size(W_1)[1], b_4)\n",
    "\n",
    "    Matrix_1 = softmax(Matrix_1)\n",
    "    Matrix_2 = softmax(Matrix_2)\n",
    "    Matrix_3 = softmax(Matrix_3)\n",
    "    Matrix_4 = softmax(Matrix_4)\n",
    "\n",
    "    return Matrix_1, Matrix_2, Matrix_3, Matrix_4\n",
    "end"
   ]
  },
  {
   "cell_type": "markdown",
   "metadata": {},
   "source": [
    "Pooling Layer 2"
   ]
  },
  {
   "cell_type": "code",
   "execution_count": null,
   "metadata": {},
   "outputs": [],
   "source": [
    "function pooling_layer_two(Matrix_1, Matrix_2, Matrix_3, Matrix_4)\n",
    "    Matrix_1 = max_pooling(Matrix_1, 2, 2)\n",
    "    Matrix_2 = max_pooling(Matrix_2, 2, 2)\n",
    "    Matrix_3 = max_pooling(Matrix_3, 2, 2)\n",
    "    Matrix_4 = max_pooling(Matrix_4, 2, 2)\n",
    "\n",
    "    return Matrix_1, Matrix_2, Matrix_3, Matrix_4\n",
    "end"
   ]
  },
  {
   "cell_type": "markdown",
   "metadata": {},
   "source": [
    "Fully Connected Layer"
   ]
  },
  {
   "cell_type": "code",
   "execution_count": null,
   "metadata": {},
   "outputs": [],
   "source": [
    "function flatten(Matrix_1, Matrix_2, Matrix_3, Matrix_4)\n",
    "    matrix = vcat(Matrix_1, Matrix_2, Matrix_3, Matrix_4)\n",
    "    return reshape(matrix, :)\n",
    "end"
   ]
  },
  {
   "cell_type": "code",
   "execution_count": null,
   "metadata": {},
   "outputs": [],
   "source": [
    "function fully_connected_layer(matrix, W, b)\n",
    "    matrix = reshape(matrix, 1, :)\n",
    "    linear_output = W * matrix' .+ b'\n",
    "    return softmax(linear_output)\n",
    "end"
   ]
  },
  {
   "cell_type": "markdown",
   "metadata": {},
   "source": [
    "Back Prop"
   ]
  },
  {
   "cell_type": "markdown",
   "metadata": {},
   "source": [
    "Operational Functions"
   ]
  },
  {
   "cell_type": "code",
   "execution_count": null,
   "metadata": {},
   "outputs": [],
   "source": [
    "function mean_sqrd_error(ŷ, y)\n",
    "    return (y - ŷ)^2\n",
    "end"
   ]
  },
  {
   "cell_type": "code",
   "execution_count": null,
   "metadata": {},
   "outputs": [],
   "source": [
    "function gradient_descent(y, ŷ, ⍺, epochs)\n",
    "    for _ in 1:epochs\n",
    "        "
   ]
  },
  {
   "cell_type": "markdown",
   "metadata": {},
   "source": [
    "Forward Prop"
   ]
  },
  {
   "cell_type": "code",
   "execution_count": null,
   "metadata": {},
   "outputs": [],
   "source": [
    "function forward_prop(input, W_1_1, W_1_2, b_1_1, b_1_2, W_2_1, W_2_2, W_2_3, W_2_4, W_2_5, W_2_6, W_2_7, W_2_8, b_2_1, b_2_2, b_2_3, b_2_4, W, b)\n",
    "    matrix_one, matrix_two = convolution_layer_one(input, W_1_1, W_1_2, 1, b_1_1, b_1_2)\n",
    "    matrix_one, matrix_two = pooling_layer_one(matrix_one, matrix_two)\n",
    "    matrix_one, matrix_two, matrix_three, matrix_four = convolution_layer_two(matrix_one, matrix_two, 1, W_2_1, W_2_2, W_2_3, W_2_4, W_2_5, W_2_6, W_2_7, W_2_8, b_2_1, b_2_2, b_2_3, b_2_4)\n",
    "    matrix_one, matrix_two, matrix_three, matrix_four = pooling_layer_two(matrix_one, matrix_two, matrix_three, matrix_four)\n",
    "    matrix_one, matrix_two, matrix_three, matrix_four = transpose(matrix_one), transpose(matrix_two), transpose(matrix_three), transpose(matrix_four)\n",
    "    flattened_matrix = flatten(matrix_one, matrix_two, matrix_three, matrix_four)\n",
    "    probabilities = fully_connected_layer(flattened_matrix, W, b)\n",
    "    print_matrix(probabilities)\n",
    "    println(size(probabilities))\n",
    "    ŷ = argmax(probabilities)[1]\n",
    "    return ŷ - 1\n",
    "end"
   ]
  },
  {
   "cell_type": "code",
   "execution_count": null,
   "metadata": {},
   "outputs": [],
   "source": [
    "input = train_data[:,:,1]\n",
    "output = forward_prop(input, W_1_1, W_1_2, b_1_1, b_1_2, W_2_1, W_2_2, W_2_3, W_2_4, W_2_5, W_2_6, W_2_7, W_2_8, b_2_1, b_2_2, b_2_3, b_2_4, W, b)\n",
    "println(output)"
   ]
  },
  {
   "cell_type": "markdown",
   "metadata": {},
   "source": [
    "Back Prop"
   ]
  },
  {
   "cell_type": "code",
   "execution_count": null,
   "metadata": {},
   "outputs": [],
   "source": [
    "function back_prop(ŷ, y)\n",
    "    loss = mean_sqrd_error(ŷ, y)\n",
    "    "
   ]
  }
 ],
 "metadata": {
  "kernelspec": {
   "display_name": "Julia 1.9.3",
   "language": "julia",
   "name": "julia-1.9"
  },
  "language_info": {
   "file_extension": ".jl",
   "mimetype": "application/julia",
   "name": "julia",
   "version": "1.9.3"
  },
  "orig_nbformat": 4
 },
 "nbformat": 4,
 "nbformat_minor": 2
}
